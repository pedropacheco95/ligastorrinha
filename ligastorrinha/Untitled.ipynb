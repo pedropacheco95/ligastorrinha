{
 "cells": [
  {
   "cell_type": "code",
   "execution_count": 1,
   "metadata": {},
   "outputs": [],
   "source": [
    "import sqlalchemy"
   ]
  },
  {
   "cell_type": "code",
   "execution_count": 2,
   "metadata": {},
   "outputs": [
    {
     "data": {
      "text/plain": [
       "Engine(sqlite:////Users/pedropacheco/Documents/Projetos/Futebol/ligastorrinha/ligastorrinha/ligastorrinha)"
      ]
     },
     "execution_count": 2,
     "metadata": {},
     "output_type": "execute_result"
    }
   ],
   "source": [
    "sqlalchemy.create_engine('sqlite:////Users/pedropacheco/Documents/Projetos/Futebol/ligastorrinha/ligastorrinha/ligastorrinha')"
   ]
  },
  {
   "cell_type": "code",
   "execution_count": 3,
   "metadata": {},
   "outputs": [],
   "source": [
    "%load_ext sql"
   ]
  },
  {
   "cell_type": "code",
   "execution_count": 4,
   "metadata": {},
   "outputs": [],
   "source": [
    "%sql sqlite:////Users/pedropacheco/Documents/Projetos/Futebol/ligastorrinha/ligastorrinha/ligastorrinha/database.db"
   ]
  },
  {
   "cell_type": "code",
   "execution_count": 5,
   "metadata": {},
   "outputs": [
    {
     "name": "stdout",
     "output_type": "stream",
     "text": [
      " * sqlite:////Users/pedropacheco/Documents/Projetos/Futebol/ligastorrinha/ligastorrinha/ligastorrinha/database.db\n",
      "Done.\n"
     ]
    },
    {
     "data": {
      "text/html": [
       "<table>\n",
       "    <tr>\n",
       "        <th>name</th>\n",
       "    </tr>\n",
       "    <tr>\n",
       "        <td>leagues</td>\n",
       "    </tr>\n",
       "    <tr>\n",
       "        <td>players</td>\n",
       "    </tr>\n",
       "    <tr>\n",
       "        <td>users</td>\n",
       "    </tr>\n",
       "    <tr>\n",
       "        <td>editions</td>\n",
       "    </tr>\n",
       "    <tr>\n",
       "        <td>games</td>\n",
       "    </tr>\n",
       "    <tr>\n",
       "        <td>players_in_edition</td>\n",
       "    </tr>\n",
       "    <tr>\n",
       "        <td>players_in_game</td>\n",
       "    </tr>\n",
       "</table>"
      ],
      "text/plain": [
       "[('leagues',),\n",
       " ('players',),\n",
       " ('users',),\n",
       " ('editions',),\n",
       " ('games',),\n",
       " ('players_in_edition',),\n",
       " ('players_in_game',)]"
      ]
     },
     "execution_count": 5,
     "metadata": {},
     "output_type": "execute_result"
    }
   ],
   "source": [
    "%%sql\n",
    "\n",
    "SELECT name FROM sqlite_master WHERE type='table';"
   ]
  },
  {
   "cell_type": "code",
   "execution_count": 6,
   "metadata": {},
   "outputs": [
    {
     "name": "stdout",
     "output_type": "stream",
     "text": [
      " * sqlite:////Users/pedropacheco/Documents/Projetos/Futebol/ligastorrinha/ligastorrinha/ligastorrinha/database.db\n",
      "Done.\n"
     ]
    },
    {
     "data": {
      "text/html": [
       "<table>\n",
       "    <tr>\n",
       "        <th>id</th>\n",
       "        <th>name</th>\n",
       "        <th>time</th>\n",
       "        <th>final_game</th>\n",
       "        <th>league_id</th>\n",
       "    </tr>\n",
       "    <tr>\n",
       "        <td>1</td>\n",
       "        <td>1ª Edição MasterLeague</td>\n",
       "        <td>21:30</td>\n",
       "        <td>2021-07-15</td>\n",
       "        <td>1</td>\n",
       "    </tr>\n",
       "    <tr>\n",
       "        <td>2</td>\n",
       "        <td>1ª Edição TuesdayLeague</td>\n",
       "        <td>22:00</td>\n",
       "        <td>2021-02-09</td>\n",
       "        <td>2</td>\n",
       "    </tr>\n",
       "    <tr>\n",
       "        <td>3</td>\n",
       "        <td>2ª Edição TuesdayLeague</td>\n",
       "        <td>22:00</td>\n",
       "        <td>2021-07-13</td>\n",
       "        <td>2</td>\n",
       "    </tr>\n",
       "    <tr>\n",
       "        <td>4</td>\n",
       "        <td>3ª Edição TuesdayLeague</td>\n",
       "        <td>22:00</td>\n",
       "        <td>2022-02-15</td>\n",
       "        <td>2</td>\n",
       "    </tr>\n",
       "    <tr>\n",
       "        <td>5</td>\n",
       "        <td>2ª Edição MasterLeague</td>\n",
       "        <td>21:30</td>\n",
       "        <td>2022-06-09</td>\n",
       "        <td>1</td>\n",
       "    </tr>\n",
       "</table>"
      ],
      "text/plain": [
       "[(1, '1ª Edição MasterLeague', '21:30', '2021-07-15', 1),\n",
       " (2, '1ª Edição TuesdayLeague', '22:00', '2021-02-09', 2),\n",
       " (3, '2ª Edição TuesdayLeague', '22:00', '2021-07-13', 2),\n",
       " (4, '3ª Edição TuesdayLeague', '22:00', '2022-02-15', 2),\n",
       " (5, '2ª Edição MasterLeague', '21:30', '2022-06-09', 1)]"
      ]
     },
     "execution_count": 6,
     "metadata": {},
     "output_type": "execute_result"
    }
   ],
   "source": [
    "%%sql\n",
    "SELECT * FROM editions;"
   ]
  },
  {
   "cell_type": "code",
   "execution_count": 7,
   "metadata": {},
   "outputs": [
    {
     "name": "stdout",
     "output_type": "stream",
     "text": [
      " * sqlite:////Users/pedropacheco/Documents/Projetos/Futebol/ligastorrinha/ligastorrinha/ligastorrinha/database.db\n",
      "1 rows affected.\n"
     ]
    },
    {
     "data": {
      "text/plain": [
       "[]"
      ]
     },
     "execution_count": 7,
     "metadata": {},
     "output_type": "execute_result"
    }
   ],
   "source": [
    "%%sql\n",
    "UPDATE games SET winner = -1 WHERE id=26;"
   ]
  },
  {
   "cell_type": "code",
   "execution_count": 1,
   "metadata": {},
   "outputs": [],
   "source": [
    "import datetime"
   ]
  },
  {
   "cell_type": "code",
   "execution_count": 5,
   "metadata": {},
   "outputs": [
    {
     "data": {
      "text/plain": [
       "datetime.datetime(2014, 2, 12, 0, 0)"
      ]
     },
     "execution_count": 5,
     "metadata": {},
     "output_type": "execute_result"
    }
   ],
   "source": [
    "date = datetime.datetime.strptime('12/02/2014', '%d/%m/%Y')\n",
    "date"
   ]
  },
  {
   "cell_type": "code",
   "execution_count": 7,
   "metadata": {},
   "outputs": [
    {
     "name": "stdout",
     "output_type": "stream",
     "text": [
      " * sqlite:////Users/pedropacheco/Documents/Projetos/Futebol/ligastorrinha/ligastorrinha/ligastorrinha/database.db\n",
      "(sqlite3.OperationalError) Cannot add a NOT NULL column with default value NULL\n",
      "[SQL: ALTER TABLE editions ADD has_ended BOOLEAN NOT NULL CHECK (has_ended IN (0, 1));]\n",
      "(Background on this error at: http://sqlalche.me/e/e3q8)\n"
     ]
    }
   ],
   "source": [
    "%%sql\n",
    "ALTER TABLE editions\n",
    "ADD has_ended BOOLEAN NOT NULL CHECK (has_ended IN (0, 1));"
   ]
  },
  {
   "cell_type": "code",
   "execution_count": null,
   "metadata": {},
   "outputs": [],
   "source": []
  }
 ],
 "metadata": {
  "kernelspec": {
   "display_name": "Python 3",
   "language": "python",
   "name": "python3"
  },
  "language_info": {
   "codemirror_mode": {
    "name": "ipython",
    "version": 3
   },
   "file_extension": ".py",
   "mimetype": "text/x-python",
   "name": "python",
   "nbconvert_exporter": "python",
   "pygments_lexer": "ipython3",
   "version": "3.8.3"
  }
 },
 "nbformat": 4,
 "nbformat_minor": 4
}
